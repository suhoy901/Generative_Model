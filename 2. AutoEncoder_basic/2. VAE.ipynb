{
 "cells": [
  {
   "cell_type": "markdown",
   "metadata": {},
   "source": [
    "# Simple Variational Autoencoder\n",
    "- Simple NN\n",
    "- Variational Inference\n",
    "- Auto-Encoding Variational Bayes"
   ]
  },
  {
   "cell_type": "markdown",
   "metadata": {},
   "source": [
    "## Variational AutoEncoder\n",
    "- VAE는 데이터가 생성되는 과정. 즉, 데이터의 확률분포를 학습하기 위한 두 개의 뉴럴네트워크로 구성됨. VAE는 잠재변수 latent variable $z$를 가정하고 있음. \n",
    "    1. encoder라고 불리는 뉴럴네트워크는 관측된 데이터 x를 받아 잠재변수 $z$를 만들어내는 역할을 수행 \n",
    "    2. decoder라 불리는 인공신경망은 encoder가 만든 $z$를 활용해 x를 복원해내는 역할을 수행<br><br>\n",
    "- 잠재변수 z와 VAE아키텍처 관점에서 이해해 본다면, encoder는 입력 데이터를 추상화하여 잠재적인 특징을 추출하는 역할, decoder는 이러한 잠재적인 특징을 바탕으로 원 데이터로 복원하는 역할을 한다고 해석할 수 있음."
   ]
  },
  {
   "cell_type": "markdown",
   "metadata": {},
   "source": [
    "## 1. Import Libs"
   ]
  },
  {
   "cell_type": "code",
   "execution_count": 1,
   "metadata": {
    "ExecuteTime": {
     "end_time": "2018-09-15T08:44:14.001363Z",
     "start_time": "2018-09-15T08:44:13.440875Z"
    }
   },
   "outputs": [],
   "source": [
    "import numpy as np\n",
    "import torch\n",
    "import torch.nn as nn\n",
    "import torch.optim as optim\n",
    "import torch.nn.init as init\n",
    "import torchvision.datasets as dset\n",
    "import torchvision.transforms as transforms\n",
    "from torch.utils.data import DataLoader\n",
    "import os\n",
    "import matplotlib.pyplot as plt\n",
    "%matplotlib inline\n",
    "\n",
    "USE_CUDA = torch.cuda.is_available()"
   ]
  },
  {
   "cell_type": "markdown",
   "metadata": {},
   "source": [
    "## 2. Load Dataset"
   ]
  },
  {
   "cell_type": "code",
   "execution_count": 2,
   "metadata": {
    "ExecuteTime": {
     "end_time": "2018-09-15T08:44:14.427898Z",
     "start_time": "2018-09-15T08:44:14.399459Z"
    }
   },
   "outputs": [],
   "source": [
    "model_dir = './save_models/MNIST/VAE'\n",
    "\n",
    "if not os.path.exists(model_dir):\n",
    "    os.mkdir(model_dir)\n",
    "\n",
    "mnist_train = dset.MNIST('./data/MNIST', train=True, transform=transforms.ToTensor(), target_transform=None, download=True)\n",
    "mnist_test = dset.MNIST('./data/MNIST', train=False, transform=transforms.ToTensor(), target_transform=None, download=True)\n",
    "\n",
    "batch_size = 128\n",
    "\n",
    "train_loader = DataLoader(mnist_train, batch_size=batch_size, shuffle=True, num_workers=2, drop_last=True)\n",
    "test_loader = DataLoader(mnist_test, batch_size=batch_size, shuffle=False, num_workers=2, drop_last=True)"
   ]
  },
  {
   "cell_type": "markdown",
   "metadata": {},
   "source": [
    "## 3. Build Model\n",
    "\n",
    "## Latent vector $Z$\n",
    "VAE의 decoder는 정규분포를 전제로 하고 있음. encoder가 만들어낸 $z$의 평균과 분산을 모수로 하는 정규분포를 설정함\n",
    "\n",
    "$$p(x|z) = N(x| f_{\\mu} (z), f_{\\sigma} (z)^2 * I)$$\n",
    "\n",
    "- 최대우도추정(MLE)방식으로 VAE 모델의 파라미터를 추정하려면 다음과 같이 정의된 marginal log-likelihood $\\text{log}\\  p(x)$를 최대화하면 됨. 아래 식을 최대화하면 모델이 데이터를 그럴싸하게 설명할 수 있게 됨\n",
    "\n",
    "$$\\text{log}\\  p(z) = \\text{log} \\sum_z p(x| f_{\\mu} (z), f_{\\sigma} (z)^2 * I) p(z)$$\n",
    "\n",
    "- 위 식은 최적화하기 어려움. $z$는 무수히 많은 경우가 존재할 수 있는데 가능한 모든 $z$에 대해서 고려해야 하기 때문임. 이 때 **변분추론**을 사용하게 됨. **변분추론은 계산이 어려운 확률분포를 다루기 쉬운 $q(z)$로 근사하는 방법임**. $p(x)$는 베이즈정리에서 evidence라고 이름이 붙여진 항인데, 몇가지 수식 유도 과정을 거치면 **evidence의 하한(ELBO)**를 아래와 같이 구할 수 있음\n",
    "\n",
    "$$\\text{log}\\ p(x) \\ge E_{z \\sim q(z)} [\\text{log} p(x|z)] - D_{KL}(q(z) || p(z))$$\n",
    "\n",
    "- 계산이 쉬운 위 부등식 우변, 즉 ELBO를 최대화하려면 $\\text{log}\\  p(x)$를 최대화할 수 있을 것임. 일반적인 변분추론에서는 $q(z)$를 정규분포로 정함.\n",
    "\n",
    "$$q(z) = N(\\mu_q, \\sigma_q^2)$$\n",
    "\n",
    "- 그런데 데이터 x가 고차원일 때는 $q$를 위화 같이 정하게 되면 학습이 대단히 어려움. 이유는 모든 데이터에 대해 동일한 평균과 분산을 갖는 하나의 정규분포를 가정하기 때문인데, 데이터가 복잡한 것에 비해서 모델이 단순하기 때문임. VAE에서는 이 문제를 해결하기 위해서 아래와 같이 $q$의 파라미터를 $x$에 대한 함수로 설정함\n",
    "\n",
    "$$q(z|x) = N(\\mu_q(x), \\sigma_q(x))$$\n",
    "\n",
    "- ELBO를 최대화하는 방향으로 $q$를 학습하면, $x$가 달라질 때마다 $q$의 분포도 계속적으로 바뀌게 됨($x$에 따라 $q$의 모수(평균, 분산)이 바뀌기 때문). VAE의 encoder에는 x를 받아서 z의 평균과 분산을 만들어내는 인공신경망($f_{\\mu}, f_{\\sigma}$)가 포함되어 있음.\n",
    "\n",
    "- 노이즈를 표준정규분포에서 하나 뽑아 ($f_{\\mu}, f_{\\sigma}$)가 산출한 평군과 분산을 더하고 곱한 이후 sample latent vector z를 만들어냄. 이 과정을 **reparameterization trick**이라고 부름. z를 직접 샘플링하는 것이 아니고 노이즈를 샘플링하는 방식인데, 이렇게 되면 역전파를 통해 encoder가 산출하면 평균과 분산을 업데이트할 수 있게 됨\n",
    "\n",
    "$$z = \\mu(x) + \\sigma(x) * \\epsilon,\\       \\epsilon \\sim N(0, 1)$$\n",
    "\n",
    "- VAE는 latent vector z를 노이즈에서 샘플링하셔 만들어내기 대문에 데이터 x가 동일하더라도 z는 얼마든지 달라질 수 있으며 decoder의 최종 결과물 역시 획일적으로 만들어지지 않음."
   ]
  },
  {
   "cell_type": "code",
   "execution_count": 3,
   "metadata": {
    "ExecuteTime": {
     "end_time": "2018-09-15T08:44:20.508031Z",
     "start_time": "2018-09-15T08:44:20.500595Z"
    }
   },
   "outputs": [],
   "source": [
    "class Encoder(nn.Module):\n",
    "    def __init__(self, input_size, hidden_size):\n",
    "        super(Encoder, self).__init__()\n",
    "        self.input_size = input_size\n",
    "        self.hidden_size = hidden_size\n",
    "        \n",
    "        self.fc1_mu = nn.Linear(input_size, hidden_size)\n",
    "        self.fc1_sigma = nn.Linear(input_size, hidden_size)\n",
    "        self.relu = nn.ReLU()\n",
    "        \n",
    "    def encode(self, inputs):\n",
    "        batch_size = inputs.size(0)\n",
    "        \n",
    "        inputs = inputs.view(batch_size, -1)\n",
    "        mu = self.relu(self.fc1_mu(inputs))\n",
    "        log_var = self.relu(self.fc1_sigma(inputs))\n",
    "        return mu, log_var\n",
    "        \n",
    "    def forward(self, inputs):\n",
    "        mu, log_var = self.encode(inputs)\n",
    "        \n",
    "        noise = torch.randn(mu.size())\n",
    "        \n",
    "        is USE_CUDA:\n",
    "            noise = noise.cuda()\n",
    "        \n",
    "        z = mu + log_var.mul(0.5).exp() * noise\n",
    "        \n",
    "        return z, mu, log_var"
   ]
  },
  {
   "cell_type": "code",
   "execution_count": 4,
   "metadata": {
    "ExecuteTime": {
     "end_time": "2018-09-15T08:44:21.544446Z",
     "start_time": "2018-09-15T08:44:20.824469Z"
    }
   },
   "outputs": [],
   "source": [
    "class Decoder(nn.Module):\n",
    "    def __init__(self, hidden_size, output_size):\n",
    "        super(Decoder, self).__init__()\n",
    "        self.hidden_size = hidden_size\n",
    "        self.output_size = output_size\n",
    "        \n",
    "        self.fc1 = nn.Linear(hidden_size, output_size)\n",
    "        self.sigmoid = nn.Sigmoid()\n",
    "        \n",
    "    def forward(self, inputs):\n",
    "        batch_size = inputs.size(0)\n",
    "        \n",
    "        out = self.sigmoid(self.fc1(inputs))\n",
    "        out = out.view(batch_size, 1, 28, 28)\n",
    "        \n",
    "        return out"
   ]
  },
  {
   "cell_type": "code",
   "execution_count": 5,
   "metadata": {
    "ExecuteTime": {
     "end_time": "2018-09-15T08:44:24.875577Z",
     "start_time": "2018-09-15T08:44:21.568133Z"
    }
   },
   "outputs": [],
   "source": [
    "input_size = 784\n",
    "hidden_size = 50\n",
    "output_size = 784\n",
    "\n",
    "encoder = Encoder(input_size, hidden_size)\n",
    "decoder = Decoder(hidden_size, output_size)\n",
    "\n",
    "if USE_CUDA:\n",
    "    encoder = encoder.cuda()\n",
    "    decoder = decoder.cuda()"
   ]
  },
  {
   "cell_type": "markdown",
   "metadata": {},
   "source": [
    "## 4. Loss func & Optims\n",
    "## VAE's Objective Function\n",
    "- VAE는 decoder의 사후확률을 학습함. 그렇지만 사후확률을 계산하는 것이 힘들기 때문에 변분추론을 사용했음.\n",
    "- 변분추론 $q(z)$와 $p(z|x)$사이의 KL Divergence를 계산하고 KLD가 줄어는 방향으로 $q(z)$를 업데이트하면서 $q*(z)$를 만들어냄.\n",
    "\n",
    "$$D_{KL}(q(z) \\| p(z|x)) = D_{KL}(q(z) \\| p(z)) + \\text{log}\\  p(x) - E_{z \\sim q(z)}[\\text{log} p(x|z)]$$\n",
    "\n",
    "- q를 정규분포로 설정하고, q의 평균과 분산을 x에 대한 함수로 정의해야 함.\n",
    "\n",
    "$$\\text{log}\\  p(x)  = E_{z \\sim q(z|x)}[ \\text{log}\\  p(x|z)] - D_{KL}(q(z|x) \\| p(z)) + D_{KL}(q(z|x) \\| p(z|x))$$\n",
    "$$= ELBO + D_{KL}(q(z|x) \\| p(z|x))\\                     : A$$\n",
    "\n",
    "- 동일한 확률변수에 대한 KLD값을 항상 양수이기 때문에 아래와 같은 부등식이 성립됨\n",
    "\n",
    "$$\\text{log}\\  p(x) \\ge E_{z \\sim q(z|x)}[\\text{log}\\  p(x|z)] - D_{KL}(q(z|x), p(z))  = ELBO \\                     : B$$\n",
    "\n",
    "- ELBO를 최대화하면 marginal log-likelihood $\\text{log}\\  p(x) $를 최대화할 수 있게되며 A와 B를 비교해본다면 ELBO를 최대화한다는 것인 $q(z|x)$, $p(z|x)$ 사이의 KLD를 최소화하는 것임. 딥러닝 모형을 사용하기 위해서 위의 손실함수에 음수를 곱한식이 목적함수로 사용되게 됨\n",
    "\n",
    "$$L = - E_{z \\sim q(z|x)} [\\text{log} p(x|z)] + D_{KL}(q(z|x) || p(z))$$\n",
    "\n",
    "- 우변의 첫번째 항 : reconstruction loss. encoder는 x를 받아서 q로 z를 뽑아내고, decoder는 encoder가 만들어낸 z를 받아 원 데이터인 x를 복원하고 이 둘 사이의 크로스엔트로피를  구함\n",
    "\n",
    "- 우변의 두번째 항 : KL Divergence Regularizer에 해당. VAE는 z가 표준정규분포라고 가정. 정규분포 간의 KLD는 분석적인 방법으로 도출이 가능함. 이 항을 최소화한다는 것은 q를 표준정규분포에 가깝게 만든다는 것.\n",
    "\n",
    "$$D_{KL}(q(z|x)\\| p(z)) = D_{KL}[N(\\mu_{q}(x), \\Sigma_{q}(x)) \\| N(0, 1)]$$\n",
    "\n",
    "$$ = \\frac{1}{2} \\sum_k \\big\\{ exp( \\Sigma_q (x)) + \\mu_q (x)^2 - 1 - \\Sigma_q (x)  \\big\\}$$"
   ]
  },
  {
   "cell_type": "code",
   "execution_count": 6,
   "metadata": {
    "ExecuteTime": {
     "end_time": "2018-09-15T08:44:24.897788Z",
     "start_time": "2018-09-15T08:44:24.894213Z"
    }
   },
   "outputs": [],
   "source": [
    "reconstruction_function = nn.BCELoss(size_average=False)\n",
    "\n",
    "def loss_function(recon_x, x, mu, log_var):\n",
    "    BCE = reconstruction_function(recon_x, x)\n",
    "    \n",
    "    # see Appendix B from VAE paper:\n",
    "    # Kingma and Welling. Auto-Encoding Variational Bayes. ICLR, 2014\n",
    "    # https://arxiv.org/abs/1312.6114\n",
    "    # 0.5 * sum(1 + log(sigma^2) - mu^2 - sigma^2)\n",
    "    \n",
    "    KLD_element = mu.pow(2).add_(log_var.exp()).mul_(-1).add_(1).add_(log_var)\n",
    "    KLD = torch.sum(KLD_element).mul_(-0.5)\n",
    "    return BCE + KLD\n",
    "\n",
    "import itertools\n",
    "parameters = itertools.chain(encoder.parameters(), decoder.parameters())\n",
    "optimizer = optim.Adam(parameters, lr=0.0005)"
   ]
  },
  {
   "cell_type": "markdown",
   "metadata": {},
   "source": [
    "## 5. Train"
   ]
  },
  {
   "cell_type": "code",
   "execution_count": 7,
   "metadata": {
    "ExecuteTime": {
     "end_time": "2018-09-15T08:44:25.080443Z",
     "start_time": "2018-09-15T08:44:25.072912Z"
    }
   },
   "outputs": [
    {
     "name": "stdout",
     "output_type": "stream",
     "text": [
      "\n",
      "--------model not restored--------\n",
      "\n"
     ]
    }
   ],
   "source": [
    "try:\n",
    "    encoder, decoder = torch.load(model_dir + '/variational_autoencoder.pkl')\n",
    "    print(\"\\n--------model restored--------\\n\")\n",
    "except:\n",
    "    print(\"\\n--------model not restored--------\\n\")\n",
    "    pass"
   ]
  },
  {
   "cell_type": "code",
   "execution_count": 8,
   "metadata": {
    "ExecuteTime": {
     "end_time": "2018-09-15T08:44:53.993590Z",
     "start_time": "2018-09-15T08:44:26.357060Z"
    }
   },
   "outputs": [
    {
     "name": "stderr",
     "output_type": "stream",
     "text": [
      "/home/paulkim/anaconda3/envs/pytorch02/lib/python3.6/site-packages/torch/serialization.py:193: UserWarning: Couldn't retrieve source code for container of type Encoder. It won't be checked for correctness upon loading.\n",
      "  \"type \" + obj.__name__ + \". It won't be checked \"\n",
      "/home/paulkim/anaconda3/envs/pytorch02/lib/python3.6/site-packages/torch/serialization.py:193: UserWarning: Couldn't retrieve source code for container of type Decoder. It won't be checked for correctness upon loading.\n",
      "  \"type \" + obj.__name__ + \". It won't be checked \"\n"
     ]
    },
    {
     "name": "stdout",
     "output_type": "stream",
     "text": [
      "[1/10] loss : 27314.37891\n",
      "[2/10] loss : 23982.72266\n",
      "[3/10] loss : 22894.33203\n",
      "[4/10] loss : 22944.22266\n",
      "[5/10] loss : 21632.50195\n",
      "[6/10] loss : 22252.47266\n",
      "[7/10] loss : 22228.14844\n",
      "[8/10] loss : 22145.99414\n",
      "[9/10] loss : 21196.74219\n",
      "[10/10] loss : 21274.19141\n"
     ]
    }
   ],
   "source": [
    "num_epoch = 10 # 20\n",
    "\n",
    "for i in range(num_epoch):\n",
    "    for j, (image, label) in enumerate(train_loader):\n",
    "        optimizer.zero_grad()\n",
    "        \n",
    "        if USE_CUDA:\n",
    "            image = image.cuda()\n",
    "        \n",
    "        z, mu, log_var = encoder(image)\n",
    "        output = decoder(z)\n",
    "        \n",
    "        loss = loss_function(output, image, mu, log_var)\n",
    "        \n",
    "        loss.backward()\n",
    "        optimizer.step()\n",
    "        \n",
    "        if j % 100 == 0:\n",
    "            torch.save([encoder, decoder], model_dir + '/variational_autoencoder.pkl')\n",
    "            # print(\"[%d/%d] MSE_loss : %0.5f\"%(i+1, num_epoch, loss.item()))\n",
    "            \n",
    "    print(\"[%d/%d] loss : %0.5f\"%(i+1, num_epoch, loss.item()))"
   ]
  },
  {
   "cell_type": "markdown",
   "metadata": {},
   "source": [
    "## 6. Check Train Image"
   ]
  },
  {
   "cell_type": "code",
   "execution_count": 9,
   "metadata": {
    "ExecuteTime": {
     "end_time": "2018-09-15T08:44:57.876070Z",
     "start_time": "2018-09-15T08:44:56.837668Z"
    }
   },
   "outputs": [
    {
     "name": "stdout",
     "output_type": "stream",
     "text": [
      "torch.Size([128, 28, 28])\n"
     ]
    },
    {
     "data": {
      "image/png": "[encoded data removed]",
      "text/plain": [
       "<Figure size 432x288 with 1 Axes>"
      ]
     },
     "metadata": {},
     "output_type": "display_data"
    },
    {
     "data": {
      "image/png": "[encoded data removed]",
      "text/plain": [
       "<Figure size 432x288 with 1 Axes>"
      ]
     },
     "metadata": {},
     "output_type": "display_data"
    },
    {
     "data": {
      "image/png": "[encoded data removed]",
      "text/plain": [
       "<Figure size 432x288 with 1 Axes>"
      ]
     },
     "metadata": {},
     "output_type": "display_data"
    },
    {
     "data": {
      "image/png": "[encoded data removed]",
      "text/plain": [
       "<Figure size 432x288 with 1 Axes>"
      ]
     },
     "metadata": {},
     "output_type": "display_data"
    },
    {
     "data": {
      "image/png": "[encoded data removed]",
      "text/plain": [
       "<Figure size 432x288 with 1 Axes>"
      ]
     },
     "metadata": {},
     "output_type": "display_data"
    },
    {
     "data": {
      "image/png": "[encoded data removed]",
      "text/plain": [
       "<Figure size 432x288 with 1 Axes>"
      ]
     },
     "metadata": {},
     "output_type": "display_data"
    },
    {
     "data": {
      "image/png": "[encoded data removed]",
      "text/plain": [
       "<Figure size 432x288 with 1 Axes>"
      ]
     },
     "metadata": {},
     "output_type": "display_data"
    },
    {
     "data": {
      "image/png": "[encoded data removed]",
      "text/plain": [
       "<Figure size 432x288 with 1 Axes>"
      ]
     },
     "metadata": {},
     "output_type": "display_data"
    },
    {
     "data": {
      "image/png": "[encoded data removed]",
      "text/plain": [
       "<Figure size 432x288 with 1 Axes>"
      ]
     },
     "metadata": {},
     "output_type": "display_data"
    },
    {
     "data": {
      "image/png": "[encoded data removed]",
      "text/plain": [
       "<Figure size 432x288 with 1 Axes>"
      ]
     },
     "metadata": {},
     "output_type": "display_data"
    }
   ],
   "source": [
    "out_img = torch.squeeze(output.cpu().data) # [128, 1, 28, 28] -> [128, 28, 28]\n",
    "print(out_img.size())\n",
    "\n",
    "for i in range(5):\n",
    "    plt.imshow(torch.squeeze(image[i].cpu()).numpy(), cmap='gray')\n",
    "    plt.show()\n",
    "    plt.imshow(out_img[i].numpy(), cmap='gray')\n",
    "    plt.show()"
   ]
  },
  {
   "cell_type": "markdown",
   "metadata": {},
   "source": [
    "## 7. Check Test Image"
   ]
  },
  {
   "cell_type": "code",
   "execution_count": 10,
   "metadata": {
    "ExecuteTime": {
     "end_time": "2018-09-15T08:44:58.623911Z",
     "start_time": "2018-09-15T08:44:58.168179Z"
    }
   },
   "outputs": [],
   "source": [
    "for i in range(1):\n",
    "    for j, (image, label) in enumerate(test_loader):\n",
    "        \n",
    "        if USE_CUDA:\n",
    "            image = image.cuda()\n",
    "            \n",
    "        output, mean, var = encoder(image)\n",
    "        output = decoder(output)\n",
    "        \n",
    "    if j % 10 == 0:\n",
    "        print(loss)"
   ]
  },
  {
   "cell_type": "code",
   "execution_count": 11,
   "metadata": {
    "ExecuteTime": {
     "end_time": "2018-09-15T08:45:00.058178Z",
     "start_time": "2018-09-15T08:44:59.027755Z"
    }
   },
   "outputs": [
    {
     "name": "stdout",
     "output_type": "stream",
     "text": [
      "torch.Size([128, 28, 28])\n"
     ]
    },
    {
     "data": {
      "image/png": "[encoded data removed]",
      "text/plain": [
       "<Figure size 432x288 with 1 Axes>"
      ]
     },
     "metadata": {},
     "output_type": "display_data"
    },
    {
     "data": {
      "image/png": "[encoded data removed]",
      "text/plain": [
       "<Figure size 432x288 with 1 Axes>"
      ]
     },
     "metadata": {},
     "output_type": "display_data"
    },
    {
     "data": {
      "image/png": "[encoded data removed]",
      "text/plain": [
       "<Figure size 432x288 with 1 Axes>"
      ]
     },
     "metadata": {},
     "output_type": "display_data"
    },
    {
     "data": {
      "image/png": "[encoded data removed]",
      "text/plain": [
       "<Figure size 432x288 with 1 Axes>"
      ]
     },
     "metadata": {},
     "output_type": "display_data"
    },
    {
     "data": {
      "image/png": "[encoded data removed]",
      "text/plain": [
       "<Figure size 432x288 with 1 Axes>"
      ]
     },
     "metadata": {},
     "output_type": "display_data"
    },
    {
     "data": {
      "image/png": "[encoded data removed]",
      "text/plain": [
       "<Figure size 432x288 with 1 Axes>"
      ]
     },
     "metadata": {},
     "output_type": "display_data"
    },
    {
     "data": {
      "image/png": "[encoded data removed]",
      "text/plain": [
       "<Figure size 432x288 with 1 Axes>"
      ]
     },
     "metadata": {},
     "output_type": "display_data"
    },
    {
     "data": {
      "image/png": "[encoded data removed]",
      "text/plain": [
       "<Figure size 432x288 with 1 Axes>"
      ]
     },
     "metadata": {},
     "output_type": "display_data"
    },
    {
     "data": {
      "image/png": "[encoded data removed]",
      "text/plain": [
       "<Figure size 432x288 with 1 Axes>"
      ]
     },
     "metadata": {},
     "output_type": "display_data"
    },
    {
     "data": {
      "image/png": "[encoded data removed]",
      "text/plain": [
       "<Figure size 432x288 with 1 Axes>"
      ]
     },
     "metadata": {},
     "output_type": "display_data"
    }
   ],
   "source": [
    "out_img = torch.squeeze(output.cpu().data)\n",
    "print(out_img.size())\n",
    "\n",
    "for i in range(5):\n",
    "    plt.imshow(torch.squeeze(image[i].cpu()).data.numpy(),cmap='gray')\n",
    "    plt.show()\n",
    "    plt.imshow(out_img[i].numpy(),cmap='gray')\n",
    "    plt.show()"
   ]
  },
  {
   "cell_type": "code",
   "execution_count": null,
   "metadata": {},
   "outputs": [],
   "source": []
  }
 ],
 "metadata": {
  "kernelspec": {
   "display_name": "Python (pytorch_0.4.0)",
   "language": "python",
   "name": "pytorch02"
  },
  "language_info": {
   "codemirror_mode": {
    "name": "ipython",
    "version": 3
   },
   "file_extension": ".py",
   "mimetype": "text/x-python",
   "name": "python",
   "nbconvert_exporter": "python",
   "pygments_lexer": "ipython3",
   "version": "3.6.5"
  },
  "latex_envs": {
   "LaTeX_envs_menu_present": true,
   "autoclose": false,
   "autocomplete": true,
   "bibliofile": "biblio.bib",
   "cite_by": "apalike",
   "current_citInitial": 1,
   "eqLabelWithNumbers": true,
   "eqNumInitial": 1,
   "hotkeys": {
    "equation": "Ctrl-E",
    "itemize": "Ctrl-I"
   },
   "labels_anchors": false,
   "latex_user_defs": false,
   "report_style_numbering": false,
   "user_envs_cfg": false
  },
  "varInspector": {
   "cols": {
    "lenName": 16,
    "lenType": 16,
    "lenVar": 40
   },
   "kernels_config": {
    "python": {
     "delete_cmd_postfix": "",
     "delete_cmd_prefix": "del ",
     "library": "var_list.py",
     "varRefreshCmd": "print(var_dic_list())"
    },
    "r": {
     "delete_cmd_postfix": ") ",
     "delete_cmd_prefix": "rm(",
     "library": "var_list.r",
     "varRefreshCmd": "cat(var_dic_list()) "
    }
   },
   "types_to_exclude": [
    "module",
    "function",
    "builtin_function_or_method",
    "instance",
    "_Feature"
   ],
   "window_display": false
  }
 },
 "nbformat": 4,
 "nbformat_minor": 2
}
