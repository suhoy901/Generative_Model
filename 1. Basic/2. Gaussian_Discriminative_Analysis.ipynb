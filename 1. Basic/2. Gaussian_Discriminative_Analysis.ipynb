{
 "cells": [
  {
   "cell_type": "code",
   "execution_count": 1,
   "metadata": {
    "ExecuteTime": {
     "end_time": "2018-09-03T11:40:26.296536Z",
     "start_time": "2018-09-03T11:40:25.942117Z"
    }
   },
   "outputs": [],
   "source": [
    "import torch\n",
    "import numpy as np\n",
    "from torch.autograd import Variable\n",
    "import torch.nn as nn\n",
    "import matplotlib.pyplot as plt\n",
    "%matplotlib inline"
   ]
  },
  {
   "cell_type": "code",
   "execution_count": 2,
   "metadata": {
    "ExecuteTime": {
     "end_time": "2018-09-03T11:40:26.438796Z",
     "start_time": "2018-09-03T11:40:26.333264Z"
    }
   },
   "outputs": [
    {
     "data": {
      "image/png": "[encoded data removed]",
      "text/plain": [
       "<Figure size 432x288 with 1 Axes>"
      ]
     },
     "metadata": {},
     "output_type": "display_data"
    },
    {
     "data": {
      "text/plain": [
       "tensor([[ 0.8203,  3.8565,  0.0000],\n",
       "        [ 0.2483,  3.1311,  0.0000],\n",
       "        [ 2.4092,  1.4005,  0.0000],\n",
       "        [ 0.3620,  0.4898,  0.0000],\n",
       "        [ 1.8758,  1.6382,  0.0000],\n",
       "        [ 1.7843,  1.0853,  0.0000],\n",
       "        [ 1.2473,  2.3769,  0.0000],\n",
       "        [ 2.6747,  1.2848,  0.0000],\n",
       "        [ 3.2960,  1.5295,  0.0000],\n",
       "        [ 5.0087,  0.8047,  0.0000],\n",
       "        [ 3.4242,  1.9549,  0.0000],\n",
       "        [ 2.9088,  2.2621,  0.0000],\n",
       "        [ 3.4493,  2.5489,  0.0000],\n",
       "        [ 2.1631,  0.8325,  0.0000],\n",
       "        [ 0.2355,  3.1339,  0.0000],\n",
       "        [ 1.6130,  1.3765,  0.0000],\n",
       "        [ 1.9072,  1.7392,  0.0000],\n",
       "        [ 3.0668,  1.3367,  0.0000],\n",
       "        [ 1.5738,  2.1221,  0.0000],\n",
       "        [ 1.8963,  3.1692,  0.0000],\n",
       "        [ 1.3312,  2.1544,  0.0000],\n",
       "        [ 1.1031, -0.1133,  0.0000],\n",
       "        [-0.4622,  0.8025,  0.0000],\n",
       "        [ 1.5682,  2.3722,  0.0000],\n",
       "        [ 1.1533,  3.2202,  0.0000],\n",
       "        [ 0.2002,  1.6557,  0.0000],\n",
       "        [ 2.7787,  1.5094,  0.0000],\n",
       "        [ 2.7352,  2.9482,  0.0000],\n",
       "        [ 1.2725,  4.6959,  0.0000],\n",
       "        [ 1.3521,  1.0700,  0.0000],\n",
       "        [ 2.4839,  1.9256,  0.0000],\n",
       "        [ 2.9080,  3.3326,  0.0000],\n",
       "        [ 2.6814,  1.2964,  0.0000],\n",
       "        [ 1.4537,  1.5681,  0.0000],\n",
       "        [ 1.4273,  3.1133,  0.0000],\n",
       "        [ 3.4393,  2.5393,  0.0000],\n",
       "        [ 2.7372,  2.1710,  0.0000],\n",
       "        [ 3.2159,  1.9669,  0.0000],\n",
       "        [ 0.8465,  1.4714,  0.0000],\n",
       "        [ 4.7310,  1.8442,  0.0000],\n",
       "        [ 1.2558,  0.8162,  0.0000],\n",
       "        [ 1.9770,  2.9641,  0.0000],\n",
       "        [ 1.3377,  2.0292,  0.0000],\n",
       "        [ 1.8648,  2.1756,  0.0000],\n",
       "        [ 1.7964,  1.4029,  0.0000],\n",
       "        [ 1.0408,  0.6656,  0.0000],\n",
       "        [ 2.5428,  1.1994,  0.0000],\n",
       "        [ 2.8623,  1.0188,  0.0000],\n",
       "        [ 2.4777,  2.7475,  0.0000],\n",
       "        [ 2.0606,  0.5603,  0.0000],\n",
       "        [ 1.9491,  1.7819,  0.0000],\n",
       "        [ 3.2698,  0.9627,  0.0000],\n",
       "        [ 0.6696,  2.0381,  0.0000],\n",
       "        [ 0.4432,  3.5776,  0.0000],\n",
       "        [ 2.8404,  0.7334,  0.0000],\n",
       "        [ 1.7885,  2.0949,  0.0000],\n",
       "        [ 1.9051,  0.3482,  0.0000],\n",
       "        [ 1.7246,  2.9564,  0.0000],\n",
       "        [ 1.7775,  2.8334,  0.0000],\n",
       "        [ 1.9884,  2.1628,  0.0000],\n",
       "        [ 1.7757, -0.8408,  0.0000],\n",
       "        [ 1.5935,  2.1437,  0.0000],\n",
       "        [ 1.5944,  1.4474,  0.0000],\n",
       "        [ 2.8431,  2.3690,  0.0000],\n",
       "        [ 2.7062,  1.8920,  0.0000],\n",
       "        [ 2.1329,  0.8873,  0.0000],\n",
       "        [ 1.9876,  3.4182,  0.0000],\n",
       "        [-0.0944,  2.7929,  0.0000],\n",
       "        [ 2.0238,  1.3884,  0.0000],\n",
       "        [ 0.3506,  2.5724,  0.0000],\n",
       "        [ 1.8588,  2.2110,  0.0000],\n",
       "        [ 1.1355,  1.4550,  0.0000],\n",
       "        [ 2.5131,  2.0458,  0.0000],\n",
       "        [ 3.6103,  1.6280,  0.0000],\n",
       "        [ 2.3053,  2.8342,  0.0000],\n",
       "        [ 1.7515,  3.3344,  0.0000],\n",
       "        [ 1.9070,  0.6130,  0.0000],\n",
       "        [ 1.7361,  3.6328,  0.0000],\n",
       "        [ 1.5269,  2.3604,  0.0000],\n",
       "        [ 1.4650,  3.6716,  0.0000],\n",
       "        [ 1.2336,  2.7483,  0.0000],\n",
       "        [ 0.7459,  1.7820,  0.0000],\n",
       "        [ 2.0896,  2.6787,  0.0000],\n",
       "        [ 2.0030,  0.5536,  0.0000],\n",
       "        [ 3.2172,  1.9590,  0.0000],\n",
       "        [ 0.1910,  1.5929,  0.0000],\n",
       "        [ 2.0601,  0.7100,  0.0000],\n",
       "        [ 0.1255,  2.1535,  0.0000],\n",
       "        [ 0.9650,  2.6199,  0.0000],\n",
       "        [ 2.2324,  0.1741,  0.0000],\n",
       "        [ 1.6820,  1.7829,  0.0000],\n",
       "        [ 2.4943,  2.4462,  0.0000],\n",
       "        [ 2.3862,  1.7580,  0.0000],\n",
       "        [ 1.0859,  1.2396,  0.0000],\n",
       "        [ 1.5394,  2.6668,  0.0000],\n",
       "        [ 1.2543,  1.5980,  0.0000],\n",
       "        [ 3.2193,  2.8677,  0.0000],\n",
       "        [ 2.3861,  3.7907,  0.0000],\n",
       "        [ 4.6129,  1.0759,  0.0000],\n",
       "        [ 1.5213,  2.2459,  0.0000],\n",
       "        [-2.1389, -0.9616,  1.0000],\n",
       "        [-0.9536, -3.3902,  1.0000],\n",
       "        [-2.7436, -1.5625,  1.0000],\n",
       "        [-1.6622, -3.2099,  1.0000],\n",
       "        [-1.0970, -1.9276,  1.0000],\n",
       "        [-2.1413, -2.0046,  1.0000],\n",
       "        [-1.7732, -1.9522,  1.0000],\n",
       "        [-2.1555, -3.4253,  1.0000],\n",
       "        [-1.6117, -3.2944,  1.0000],\n",
       "        [-2.7783, -3.8045,  1.0000],\n",
       "        [-1.2636, -3.1528,  1.0000],\n",
       "        [-3.2545, -1.9769,  1.0000],\n",
       "        [-1.4733, -3.8927,  1.0000],\n",
       "        [-2.1663, -1.6770,  1.0000],\n",
       "        [-3.0980, -3.1378,  1.0000],\n",
       "        [ 0.7801, -2.5585,  1.0000],\n",
       "        [-3.0153, -2.8674,  1.0000],\n",
       "        [-1.1796, -2.9188,  1.0000],\n",
       "        [-2.0042, -2.6702,  1.0000],\n",
       "        [-2.2479, -0.6161,  1.0000],\n",
       "        [-2.5487, -1.5438,  1.0000],\n",
       "        [-3.4507, -3.1213,  1.0000],\n",
       "        [-0.8564, -2.9953,  1.0000],\n",
       "        [-1.7066, -2.6064,  1.0000],\n",
       "        [-1.2337, -3.8255,  1.0000],\n",
       "        [-0.4297, -4.3557,  1.0000],\n",
       "        [-2.4746, -1.3377,  1.0000],\n",
       "        [-1.9502, -2.1287,  1.0000],\n",
       "        [-1.3072, -2.0495,  1.0000],\n",
       "        [-1.9465, -0.5938,  1.0000],\n",
       "        [-0.8718, -1.0359,  1.0000],\n",
       "        [-3.6318, -2.1737,  1.0000],\n",
       "        [-2.4422, -1.5180,  1.0000],\n",
       "        [-1.5712, -2.3726,  1.0000],\n",
       "        [-1.4937, -3.0555,  1.0000],\n",
       "        [-2.0683, -1.4030,  1.0000],\n",
       "        [-1.2019, -2.2763,  1.0000],\n",
       "        [-3.1538, -1.5252,  1.0000],\n",
       "        [-1.7089, -3.1222,  1.0000],\n",
       "        [-2.6850, -2.2135,  1.0000],\n",
       "        [-1.1279, -3.3141,  1.0000],\n",
       "        [-3.0427, -0.3312,  1.0000],\n",
       "        [-2.7339, -1.7398,  1.0000],\n",
       "        [-2.7398, -2.4662,  1.0000],\n",
       "        [-1.1636, -2.3087,  1.0000],\n",
       "        [-1.5918, -1.8991,  1.0000],\n",
       "        [-2.0008, -3.2255,  1.0000],\n",
       "        [-2.4526, -2.1354,  1.0000],\n",
       "        [-2.1661, -1.3789,  1.0000],\n",
       "        [-2.9705, -3.0100,  1.0000],\n",
       "        [-2.1288, -1.8348,  1.0000],\n",
       "        [-2.5186, -2.1203,  1.0000],\n",
       "        [-0.8308, -3.0472,  1.0000],\n",
       "        [-2.9077, -3.5494,  1.0000],\n",
       "        [-1.7878, -1.7775,  1.0000],\n",
       "        [-2.7938, -1.1012,  1.0000],\n",
       "        [-2.3822, -2.6690,  1.0000],\n",
       "        [-2.1016, -2.4576,  1.0000],\n",
       "        [ 0.1089, -0.5944,  1.0000],\n",
       "        [-3.4142, -0.9281,  1.0000],\n",
       "        [ 0.1895, -2.2348,  1.0000],\n",
       "        [-5.5043, -2.5711,  1.0000],\n",
       "        [-1.7940, -1.6438,  1.0000],\n",
       "        [-1.7860, -1.2833,  1.0000],\n",
       "        [-1.6733, -1.7374,  1.0000],\n",
       "        [-2.0191, -1.5743,  1.0000],\n",
       "        [-3.1697, -2.1865,  1.0000],\n",
       "        [-1.8902, -1.5416,  1.0000],\n",
       "        [-1.7081, -1.1854,  1.0000],\n",
       "        [-2.9186, -1.2008,  1.0000],\n",
       "        [-1.6633, -1.3935,  1.0000],\n",
       "        [-2.3991, -1.3002,  1.0000],\n",
       "        [-1.3917, -2.1905,  1.0000],\n",
       "        [-3.5227, -1.4274,  1.0000],\n",
       "        [-1.9539, -2.9260,  1.0000],\n",
       "        [-1.8433, -1.3793,  1.0000],\n",
       "        [-2.1833, -0.2832,  1.0000],\n",
       "        [-1.7233, -2.8439,  1.0000],\n",
       "        [-2.2161, -2.2122,  1.0000],\n",
       "        [-0.8062, -2.4873,  1.0000],\n",
       "        [-2.5515,  0.3621,  1.0000],\n",
       "        [-3.5398, -0.0275,  1.0000],\n",
       "        [-5.2000, -0.4576,  1.0000],\n",
       "        [-2.5670, -2.7206,  1.0000],\n",
       "        [-4.5942, -1.4549,  1.0000],\n",
       "        [-0.4190, -1.8568,  1.0000],\n",
       "        [-1.0917, -1.8646,  1.0000],\n",
       "        [-2.9409, -2.0806,  1.0000],\n",
       "        [-2.6391, -2.6082,  1.0000],\n",
       "        [-2.2875, -1.0003,  1.0000],\n",
       "        [-2.3067, -2.3876,  1.0000],\n",
       "        [-3.2297, -1.2275,  1.0000],\n",
       "        [-1.4865, -1.4914,  1.0000],\n",
       "        [-1.3341, -3.3660,  1.0000],\n",
       "        [-2.4324, -2.1483,  1.0000],\n",
       "        [-3.7531, -3.6629,  1.0000],\n",
       "        [-1.9619, -1.9567,  1.0000],\n",
       "        [-3.4405, -3.3229,  1.0000],\n",
       "        [-3.2769, -0.4841,  1.0000],\n",
       "        [-1.5615, -3.0328,  1.0000]])"
      ]
     },
     "execution_count": 2,
     "metadata": {},
     "output_type": "execute_result"
    }
   ],
   "source": [
    "n_data = torch.ones(100, 2)\n",
    "\n",
    "x0 = torch.normal(2*n_data, 1)\n",
    "y0 = torch.zeros(100, 1)\n",
    "\n",
    "x1 = torch.normal(-2*n_data, 1)\n",
    "y1 = torch.ones(100, 1)\n",
    "\n",
    "x = torch.cat((x0, x1)).type(torch.FloatTensor)\n",
    "y = torch.cat((y0, y1)).type(torch.FloatTensor)\n",
    "\n",
    "plt.scatter(x.data.numpy()[:, 0], x.data.numpy()[:, 1], c=y.squeeze().numpy(), s=100, lw=0, cmap='RdYlGn')\n",
    "plt.show()\n",
    "\n",
    "torch.cat((x, y), dim=1)"
   ]
  },
  {
   "cell_type": "markdown",
   "metadata": {},
   "source": [
    "# GDA Model and Parameters Estimation\n",
    "$$P(y=1) = \\theta = \\frac{1}{m} \\sum_{i=1}^n 1 \\{ y^{(i)} = 1 \\}$$"
   ]
  },
  {
   "cell_type": "code",
   "execution_count": 3,
   "metadata": {
    "ExecuteTime": {
     "end_time": "2018-09-03T11:40:26.891633Z",
     "start_time": "2018-09-03T11:40:26.887320Z"
    }
   },
   "outputs": [
    {
     "data": {
      "text/plain": [
       "tensor(0.5000)"
      ]
     },
     "execution_count": 3,
     "metadata": {},
     "output_type": "execute_result"
    }
   ],
   "source": [
    "phi1 = (y == 1).sum().float()/200\n",
    "phi0 = 1 - phi1\n",
    "phi1"
   ]
  },
  {
   "cell_type": "markdown",
   "metadata": {},
   "source": [
    "$$\\mu_0 = \\frac{\\sum_{i=1}^m 1 \\{ y^{(i)} = 0 \\} x^{(i)}}{\\sum_{i=1}^m 1 \\{y^{(i)}=0 \\} }$$"
   ]
  },
  {
   "cell_type": "code",
   "execution_count": 4,
   "metadata": {
    "ExecuteTime": {
     "end_time": "2018-09-03T11:40:28.016653Z",
     "start_time": "2018-09-03T11:40:27.547176Z"
    }
   },
   "outputs": [
    {
     "data": {
      "text/plain": [
       "tensor([[ 1.9226,  1.9499]])"
      ]
     },
     "execution_count": 4,
     "metadata": {},
     "output_type": "execute_result"
    }
   ],
   "source": [
    "mu0 = x[(y==0).squeeze(), :].mean(0, keepdim=True)\n",
    "mu0"
   ]
  },
  {
   "cell_type": "markdown",
   "metadata": {},
   "source": [
    "$$\\mu_1 = \\frac{\\sum_{i=1}^m 1 \\{ y^{(i)} = 1 \\} x^{(i)}}{\\sum_{i=1}^m 1 \\{ y^{(i)} = 1 \\}}$$"
   ]
  },
  {
   "cell_type": "code",
   "execution_count": 5,
   "metadata": {
    "ExecuteTime": {
     "end_time": "2018-09-03T11:40:28.555290Z",
     "start_time": "2018-09-03T11:40:28.551847Z"
    }
   },
   "outputs": [
    {
     "data": {
      "text/plain": [
       "tensor([[-2.1405, -2.1053]])"
      ]
     },
     "execution_count": 5,
     "metadata": {},
     "output_type": "execute_result"
    }
   ],
   "source": [
    "mu1 = x[(y==1).squeeze(), :].mean(0, keepdim=True)\n",
    "mu1"
   ]
  },
  {
   "cell_type": "markdown",
   "metadata": {},
   "source": [
    "$$\\sum = diag(1, 1)$$"
   ]
  },
  {
   "cell_type": "code",
   "execution_count": 6,
   "metadata": {
    "ExecuteTime": {
     "end_time": "2018-09-03T11:40:29.065352Z",
     "start_time": "2018-09-03T11:40:29.060964Z"
    }
   },
   "outputs": [
    {
     "data": {
      "text/plain": [
       "tensor([[ 1.,  1.]])"
      ]
     },
     "execution_count": 6,
     "metadata": {},
     "output_type": "execute_result"
    }
   ],
   "source": [
    "sigma0 = torch.ones(1, 2)\n",
    "sigma1 = torch.ones(1, 2)\n",
    "sigma0"
   ]
  },
  {
   "cell_type": "markdown",
   "metadata": {},
   "source": [
    "## Prediction (Test)"
   ]
  },
  {
   "cell_type": "code",
   "execution_count": 7,
   "metadata": {
    "ExecuteTime": {
     "end_time": "2018-09-03T11:40:29.935288Z",
     "start_time": "2018-09-03T11:40:29.931851Z"
    }
   },
   "outputs": [
    {
     "data": {
      "text/plain": [
       "tensor([[ 0.4167, -2.4389]])"
      ]
     },
     "execution_count": 7,
     "metadata": {},
     "output_type": "execute_result"
    }
   ],
   "source": [
    "a_sample = torch.ones(1, 2)\n",
    "x_new = torch.normal(-2 * a_sample, 1) # sample x_new ~ Gaussian( mu=(2,2), var=diag(1,1))  (class0)\n",
    "x_new"
   ]
  },
  {
   "cell_type": "markdown",
   "metadata": {},
   "source": [
    "## Gaussian Distribution\n",
    "\n",
    "$$p(x; \\mu, \\sigma) = \\frac{1}{ \\sqrt{2 \\pi | \\sigma |}}\\text{exp} \\Big( -\\frac{1}{2} ( x - \\mu)^{T} \\Sigma^{-1} (x - \\mu) \\Big) $$"
   ]
  },
  {
   "cell_type": "code",
   "execution_count": 8,
   "metadata": {
    "ExecuteTime": {
     "end_time": "2018-09-03T11:40:30.995058Z",
     "start_time": "2018-09-03T11:40:30.691879Z"
    }
   },
   "outputs": [],
   "source": [
    "K = 1\n",
    "\n",
    "def get_k_likelihoods(X, mu, var):\n",
    "    if var.eq(0).any():\n",
    "        raise Exception('Variances must be zero')\n",
    "    \n",
    "    coeff = 1. / ((2*np.pi * var).prod(dim=1)).sqrt() # (K )\n",
    "    sigma_inv = 1. / var\n",
    "    diff = X - mu.unsqueeze(1)\n",
    "    exponent = -0.5 * (diff ** 2 @ sigma_inv.unsqueeze(2))\n",
    "    likelihood = coeff.view(K, 1, 1) * torch.exp(exponent)\n",
    "    return likelihood.squeeze(2)"
   ]
  },
  {
   "cell_type": "markdown",
   "metadata": {},
   "source": [
    "## likelihood $p(x|y = 1)$"
   ]
  },
  {
   "cell_type": "code",
   "execution_count": 9,
   "metadata": {
    "ExecuteTime": {
     "end_time": "2018-09-03T11:40:31.882772Z",
     "start_time": "2018-09-03T11:40:31.878747Z"
    }
   },
   "outputs": [
    {
     "data": {
      "text/plain": [
       "tensor(1.00000e-03 *\n",
       "       [[ 5.7235]])"
      ]
     },
     "execution_count": 9,
     "metadata": {},
     "output_type": "execute_result"
    }
   ],
   "source": [
    "prob1 = get_k_likelihoods(x_new, mu1, sigma1)\n",
    "prob1"
   ]
  },
  {
   "cell_type": "markdown",
   "metadata": {},
   "source": [
    "## likelihood $p(x|y = 0)$"
   ]
  },
  {
   "cell_type": "code",
   "execution_count": 10,
   "metadata": {
    "ExecuteTime": {
     "end_time": "2018-09-03T11:40:32.806889Z",
     "start_time": "2018-09-03T11:40:32.803267Z"
    }
   },
   "outputs": [
    {
     "data": {
      "text/plain": [
       "tensor(1.00000e-06 *\n",
       "       [[ 3.3633]])"
      ]
     },
     "execution_count": 10,
     "metadata": {},
     "output_type": "execute_result"
    }
   ],
   "source": [
    "prob0 = get_k_likelihoods(x_new, mu0, sigma0)\n",
    "prob0"
   ]
  },
  {
   "cell_type": "markdown",
   "metadata": {},
   "source": [
    "## Decision Rule\n",
    "\n",
    "$$y = 1 \\  \\text{if} \\   \\frac{p(x|y=1) p(y=1)}{p(x|y=0) p(y=0)} > 1$$"
   ]
  },
  {
   "cell_type": "code",
   "execution_count": 11,
   "metadata": {
    "ExecuteTime": {
     "end_time": "2018-09-03T11:40:33.727335Z",
     "start_time": "2018-09-03T11:40:33.722331Z"
    }
   },
   "outputs": [
    {
     "data": {
      "text/plain": [
       "tensor([[ 0]], dtype=torch.uint8)"
      ]
     },
     "execution_count": 11,
     "metadata": {},
     "output_type": "execute_result"
    }
   ],
   "source": [
    "(prob1 * phi1) / (prob1 * phi0) > 1 "
   ]
  },
  {
   "cell_type": "markdown",
   "metadata": {},
   "source": [
    "## Bayes Rule\n",
    "\n",
    "$$P(y = 1 | x) = \\frac{p(x|y=1)p(y=1)}{p(x|y=0)p(y=0) + p(x|y=1)p(y=1)}$$"
   ]
  },
  {
   "cell_type": "code",
   "execution_count": 12,
   "metadata": {
    "ExecuteTime": {
     "end_time": "2018-09-03T11:40:34.704708Z",
     "start_time": "2018-09-03T11:40:34.699870Z"
    }
   },
   "outputs": [
    {
     "data": {
      "text/plain": [
       "tensor([[ 0.9994]])"
      ]
     },
     "execution_count": 12,
     "metadata": {},
     "output_type": "execute_result"
    }
   ],
   "source": [
    "p1 = (prob1 * phi1) / ((prob0 * phi0) + (prob1 * phi1))\n",
    "p1"
   ]
  },
  {
   "cell_type": "code",
   "execution_count": 13,
   "metadata": {
    "ExecuteTime": {
     "end_time": "2018-09-03T11:40:35.269980Z",
     "start_time": "2018-09-03T11:40:35.266225Z"
    }
   },
   "outputs": [
    {
     "data": {
      "text/plain": [
       "tensor(1.00000e-04 *\n",
       "       [[ 5.8728]])"
      ]
     },
     "execution_count": 13,
     "metadata": {},
     "output_type": "execute_result"
    }
   ],
   "source": [
    "1-p1"
   ]
  },
  {
   "cell_type": "markdown",
   "metadata": {},
   "source": [
    "# Draw Sample fro GDA Model"
   ]
  },
  {
   "cell_type": "code",
   "execution_count": 14,
   "metadata": {
    "ExecuteTime": {
     "end_time": "2018-09-03T11:40:36.317097Z",
     "start_time": "2018-09-03T11:40:36.229504Z"
    }
   },
   "outputs": [
    {
     "data": {
      "image/png": "[encoded data removed]",
      "text/plain": [
       "<Figure size 432x288 with 1 Axes>"
      ]
     },
     "metadata": {},
     "output_type": "display_data"
    }
   ],
   "source": [
    "x0 = torch.normal(mu0.repeat(100, 1).data, 1)\n",
    "y0 = torch.zeros(100, 1)\n",
    "\n",
    "x1 = torch.normal(mu1.repeat(100, 1).data, 1)\n",
    "y1 = torch.ones(100, 1)\n",
    "\n",
    "x_sample = torch.cat((x0, x1)).type(torch.FloatTensor)\n",
    "y_sample = torch.cat((y0, y1)).type(torch.FloatTensor)\n",
    "\n",
    "plt.scatter(x_sample.data.numpy()[:, 0], x.data.numpy()[:, 1], c = y_sample.squeeze().numpy(), s=100, lw=0, cmap='RdYlGn')\n",
    "plt.show()"
   ]
  },
  {
   "cell_type": "code",
   "execution_count": null,
   "metadata": {},
   "outputs": [],
   "source": []
  }
 ],
 "metadata": {
  "kernelspec": {
   "display_name": "Python (pytorch_0.4.0)",
   "language": "python",
   "name": "pytorch02"
  },
  "language_info": {
   "codemirror_mode": {
    "name": "ipython",
    "version": 3
   },
   "file_extension": ".py",
   "mimetype": "text/x-python",
   "name": "python",
   "nbconvert_exporter": "python",
   "pygments_lexer": "ipython3",
   "version": "3.6.5"
  },
  "latex_envs": {
   "LaTeX_envs_menu_present": true,
   "autoclose": false,
   "autocomplete": true,
   "bibliofile": "biblio.bib",
   "cite_by": "apalike",
   "current_citInitial": 1,
   "eqLabelWithNumbers": true,
   "eqNumInitial": 1,
   "hotkeys": {
    "equation": "Ctrl-E",
    "itemize": "Ctrl-I"
   },
   "labels_anchors": false,
   "latex_user_defs": false,
   "report_style_numbering": false,
   "user_envs_cfg": false
  },
  "varInspector": {
   "cols": {
    "lenName": 16,
    "lenType": 16,
    "lenVar": 40
   },
   "kernels_config": {
    "python": {
     "delete_cmd_postfix": "",
     "delete_cmd_prefix": "del ",
     "library": "var_list.py",
     "varRefreshCmd": "print(var_dic_list())"
    },
    "r": {
     "delete_cmd_postfix": ") ",
     "delete_cmd_prefix": "rm(",
     "library": "var_list.r",
     "varRefreshCmd": "cat(var_dic_list()) "
    }
   },
   "types_to_exclude": [
    "module",
    "function",
    "builtin_function_or_method",
    "instance",
    "_Feature"
   ],
   "window_display": false
  }
 },
 "nbformat": 4,
 "nbformat_minor": 2
}
